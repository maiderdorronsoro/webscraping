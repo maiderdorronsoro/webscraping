{
 "cells": [
  {
   "cell_type": "code",
   "execution_count": null,
   "id": "4e3847c4",
   "metadata": {},
   "outputs": [],
   "source": [
    "#pip install selenium"
   ]
  },
  {
   "cell_type": "code",
   "execution_count": 1,
   "id": "801d44ea",
   "metadata": {},
   "outputs": [],
   "source": [
    "import selenium\n",
    "from selenium import webdriver\n",
    "from selenium.webdriver.common.by import By\n",
    "from selenium.webdriver.common.keys import Keys\n",
    "from selenium.webdriver.support.ui import WebDriverWait\n",
    "from selenium.webdriver.support import expected_conditions as EC\n",
    "from selenium.common.exceptions import NoSuchElementException\n",
    "import time"
   ]
  },
  {
   "cell_type": "markdown",
   "id": "3c5ec3a6",
   "metadata": {},
   "source": [
    "Cargamos el driver de Chrome"
   ]
  },
  {
   "cell_type": "code",
   "execution_count": 2,
   "id": "e206f9a2",
   "metadata": {},
   "outputs": [
    {
     "name": "stderr",
     "output_type": "stream",
     "text": [
      "C:\\Users\\mdorronsoro\\AppData\\Local\\Temp\\ipykernel_17348\\1049481939.py:2: DeprecationWarning: executable_path has been deprecated, please pass in a Service object\n",
      "  driver=webdriver.Chrome(executable_path=r\"C:\\Users\\mdorronsoro\\Downloads\\chromedriver_win32\\chromedriver.exe\")\n"
     ]
    }
   ],
   "source": [
    "#path=\"C:\\Users\\mdorronsoro\\Downloads\\chromedriver_win32\\chromedriver.exe\"\n",
    "driver=webdriver.Chrome(executable_path=r\"C:\\Users\\mdorronsoro\\Downloads\\chromedriver_win32\\chromedriver.exe\")"
   ]
  },
  {
   "cell_type": "code",
   "execution_count": 3,
   "id": "7cb959d9",
   "metadata": {},
   "outputs": [],
   "source": [
    "def log_in():\n",
    "    wait.until(EC.element_to_be_clickable((By.CLASS_NAME, \"login-desktop\"))).click()\n",
    "    user=\"maiderdorron@gmail.com\"\n",
    "    psw=\"Flavia2023!\"\n",
    "    user_input=wait.until(EC.element_to_be_clickable((By.ID, \"email\"))).send_keys(user)\n",
    "    psw_input=wait.until(EC.element_to_be_clickable((By.ID, \"password\"))).send_keys(psw)\n",
    "    wait.until(EC.element_to_be_clickable((By.XPATH, \"//button[@title='Entrar']\"))).click()\n",
    "    wait.until(EC.element_to_be_clickable((By.CSS_SELECTOR, \"a.primary-button.primary-button-back\"))).click()\n",
    "    time.sleep(1)"
   ]
  },
  {
   "cell_type": "code",
   "execution_count": 4,
   "id": "0b68b312",
   "metadata": {},
   "outputs": [],
   "source": [
    "prices = []\n",
    "items = []\n",
    "urls = []\n",
    "precio_kilo = []\n",
    "cod_item_pos = []\n",
    "cat_1 = []\n",
    "cat_2 = []\n",
    "\n",
    "\n",
    "\n",
    "def look_up_it(lista):\n",
    "    for i in lista:\n",
    "        search=driver.find_element(By.ID, value=\"searchTerm\")\n",
    "        search.send_keys(i)\n",
    "        time.sleep(1)\n",
    "        #search.send_keys(Keys.RETURN)\n",
    "        driver.find_element(By.CLASS_NAME, \"search-button\").click()\n",
    "        print(\"1\")\n",
    "        time.sleep(1)\n",
    "        SCROLL_PAUSE_TIME = 3\n",
    "        print(\"2\")\n",
    "        last_height = driver.execute_script(\"return document.body.scrollHeight\")\n",
    "        print(\"3\")\n",
    "        while True:\n",
    "            print(\"4\")\n",
    "            # Scroll down to bottom\n",
    "            driver.execute_script(\"window.scrollTo(0, document.body.scrollHeight)\")\n",
    "            print(\"5\")\n",
    "            # Wait to load page\n",
    "            time.sleep(SCROLL_PAUSE_TIME)\n",
    "            # Calculate new scroll height and compare with last scroll height\n",
    "            new_height = driver.execute_script(\"return document.body.scrollHeight\")\n",
    "            if new_height == last_height:\n",
    "                break  \n",
    "            last_height = new_height\n",
    "        \n",
    "        get_items_prices()\n",
    "        \n",
    "\n",
    "        #buscar=driver.find_element(By.CLASS_NAME, value=\"search-button\")\n",
    "        #buscar.click()\n",
    "        #search.send_keys(Keys.CLEAR)\n",
    "        #get_price = driver.find_elements(By.CLASS_NAME, \"price-offer-now\")\n",
    "        \n",
    "    \n"
   ]
  },
  {
   "cell_type": "code",
   "execution_count": 5,
   "id": "5b832e7f",
   "metadata": {},
   "outputs": [],
   "source": [
    "def get_items_prices():\n",
    "    # precio   \n",
    "    get_price = driver.find_elements(By.CLASS_NAME, \"price-offer-now\")\n",
    "    for t in get_price:\n",
    "        prices.append(t.text)\n",
    "\n",
    "    #items\n",
    "    get_products = driver.find_elements(By.CLASS_NAME, \"product-title\")\n",
    "    for t in get_products:\n",
    "        items.append(t.text)\n",
    "        \n",
    "    get_urls=driver.find_elements(By.CSS_SELECTOR, \"h2.product-title a\")\n",
    "    for element in get_urls:\n",
    "        urls.append(element.get_attribute(\"href\"))\n",
    "    "
   ]
  },
  {
   "cell_type": "code",
   "execution_count": 6,
   "id": "ca9f51ed",
   "metadata": {},
   "outputs": [],
   "source": [
    "def get_price_kilo(urls):\n",
    "    for element in urls:\n",
    "        driver.get(element)\n",
    "        categorias=driver.find_elements(By.CSS_SELECTOR, \"div.col.col-lg-12.m__breadcrumb__path a\")\n",
    "        cat_1.append(categorias[1].text)\n",
    "        cat_2.append(categorias[2].text)\n",
    "\n",
    "        link = None\n",
    "        try:\n",
    "            link = driver.find_element(By.CLASS_NAME, \"price-product\")\n",
    "            precio_kilo.append(link.text)\n",
    "        except NoSuchElementException:\n",
    "            precio_kilo.append('NA')\n",
    "        #driver.close()"
   ]
  },
  {
   "cell_type": "code",
   "execution_count": 7,
   "id": "76c2d52f",
   "metadata": {},
   "outputs": [],
   "source": [
    "def internal_codes(urls):\n",
    "    get_internal_codes= [x[49:] for x in urls]\n",
    "    for element in get_internal_codes:\n",
    "        splited=element.split('-') \n",
    "        cod_item_pos.append(splited[0])"
   ]
  },
  {
   "cell_type": "code",
   "execution_count": 8,
   "id": "1f711492",
   "metadata": {},
   "outputs": [
    {
     "name": "stdout",
     "output_type": "stream",
     "text": [
      "1\n",
      "2\n",
      "3\n",
      "4\n",
      "5\n",
      "4\n",
      "5\n",
      "1\n",
      "2\n",
      "3\n",
      "4\n",
      "5\n",
      "4\n",
      "5\n",
      "4\n",
      "5\n"
     ]
    }
   ],
   "source": [
    "#print(driver.title)\n",
    "driver.get(\"https://supermercado.eroski.es/es/\")\n",
    "driver.maximize_window()\n",
    "wait = WebDriverWait(driver, 30)\n",
    "wait.until(EC.element_to_be_clickable((By.ID, \"onetrust-accept-btn-handler\"))).click() \n",
    "log_in()\n",
    "\n",
    "#look_up_items=['gula','palito cangrejo', 'bacalao','salmon']\n",
    "look_up_items=['gula','bacalao']\n",
    "look_up_it(look_up_items)\n",
    "urls=list(set(urls))\n",
    "get_price_kilo(urls)\n",
    "internal_codes(urls)\n",
    "driver.get(\"https://supermercado.eroski.es/\")\n",
    "\n",
    "\n",
    "\n",
    "#search.send_keys(Keys.ENTER)\n",
    "#search.send_keys(Keys.ENTER)\n",
    "\n",
    "time.sleep(2)"
   ]
  },
  {
   "cell_type": "code",
   "execution_count": 9,
   "id": "40405b31",
   "metadata": {},
   "outputs": [
    {
     "ename": "ValueError",
     "evalue": "All arrays must be of the same length",
     "output_type": "error",
     "traceback": [
      "\u001b[1;31m---------------------------------------------------------------------------\u001b[0m",
      "\u001b[1;31mValueError\u001b[0m                                Traceback (most recent call last)",
      "Input \u001b[1;32mIn [9]\u001b[0m, in \u001b[0;36m<cell line: 4>\u001b[1;34m()\u001b[0m\n\u001b[0;32m      1\u001b[0m \u001b[38;5;28;01mimport\u001b[39;00m \u001b[38;5;21;01mpandas\u001b[39;00m \u001b[38;5;28;01mas\u001b[39;00m \u001b[38;5;21;01mpd\u001b[39;00m \n\u001b[0;32m      2\u001b[0m d \u001b[38;5;241m=\u001b[39m {\u001b[38;5;124m'\u001b[39m\u001b[38;5;124mItem\u001b[39m\u001b[38;5;124m'\u001b[39m : items, \u001b[38;5;124m'\u001b[39m\u001b[38;5;124mPrice\u001b[39m\u001b[38;5;124m'\u001b[39m:prices,\u001b[38;5;124m'\u001b[39m\u001b[38;5;124mPrecio_kilo\u001b[39m\u001b[38;5;124m'\u001b[39m:precio_kilo, \u001b[38;5;124m'\u001b[39m\u001b[38;5;124mInternal code\u001b[39m\u001b[38;5;124m'\u001b[39m:cod_item_pos, \u001b[38;5;124m'\u001b[39m\u001b[38;5;124mCategoria 1\u001b[39m\u001b[38;5;124m'\u001b[39m: cat_1,\n\u001b[0;32m      3\u001b[0m      \u001b[38;5;124m'\u001b[39m\u001b[38;5;124mCategoria 2\u001b[39m\u001b[38;5;124m'\u001b[39m: cat_2,\u001b[38;5;124m'\u001b[39m\u001b[38;5;124murls\u001b[39m\u001b[38;5;124m'\u001b[39m:urls}\n\u001b[1;32m----> 4\u001b[0m df \u001b[38;5;241m=\u001b[39m \u001b[43mpd\u001b[49m\u001b[38;5;241;43m.\u001b[39;49m\u001b[43mDataFrame\u001b[49m\u001b[43m(\u001b[49m\u001b[43mdata\u001b[49m\u001b[38;5;241;43m=\u001b[39;49m\u001b[43md\u001b[49m\u001b[43m)\u001b[49m\n\u001b[0;32m      5\u001b[0m df\n",
      "File \u001b[1;32m~\\Anaconda3\\lib\\site-packages\\pandas\\core\\frame.py:636\u001b[0m, in \u001b[0;36mDataFrame.__init__\u001b[1;34m(self, data, index, columns, dtype, copy)\u001b[0m\n\u001b[0;32m    630\u001b[0m     mgr \u001b[38;5;241m=\u001b[39m \u001b[38;5;28mself\u001b[39m\u001b[38;5;241m.\u001b[39m_init_mgr(\n\u001b[0;32m    631\u001b[0m         data, axes\u001b[38;5;241m=\u001b[39m{\u001b[38;5;124m\"\u001b[39m\u001b[38;5;124mindex\u001b[39m\u001b[38;5;124m\"\u001b[39m: index, \u001b[38;5;124m\"\u001b[39m\u001b[38;5;124mcolumns\u001b[39m\u001b[38;5;124m\"\u001b[39m: columns}, dtype\u001b[38;5;241m=\u001b[39mdtype, copy\u001b[38;5;241m=\u001b[39mcopy\n\u001b[0;32m    632\u001b[0m     )\n\u001b[0;32m    634\u001b[0m \u001b[38;5;28;01melif\u001b[39;00m \u001b[38;5;28misinstance\u001b[39m(data, \u001b[38;5;28mdict\u001b[39m):\n\u001b[0;32m    635\u001b[0m     \u001b[38;5;66;03m# GH#38939 de facto copy defaults to False only in non-dict cases\u001b[39;00m\n\u001b[1;32m--> 636\u001b[0m     mgr \u001b[38;5;241m=\u001b[39m \u001b[43mdict_to_mgr\u001b[49m\u001b[43m(\u001b[49m\u001b[43mdata\u001b[49m\u001b[43m,\u001b[49m\u001b[43m \u001b[49m\u001b[43mindex\u001b[49m\u001b[43m,\u001b[49m\u001b[43m \u001b[49m\u001b[43mcolumns\u001b[49m\u001b[43m,\u001b[49m\u001b[43m \u001b[49m\u001b[43mdtype\u001b[49m\u001b[38;5;241;43m=\u001b[39;49m\u001b[43mdtype\u001b[49m\u001b[43m,\u001b[49m\u001b[43m \u001b[49m\u001b[43mcopy\u001b[49m\u001b[38;5;241;43m=\u001b[39;49m\u001b[43mcopy\u001b[49m\u001b[43m,\u001b[49m\u001b[43m \u001b[49m\u001b[43mtyp\u001b[49m\u001b[38;5;241;43m=\u001b[39;49m\u001b[43mmanager\u001b[49m\u001b[43m)\u001b[49m\n\u001b[0;32m    637\u001b[0m \u001b[38;5;28;01melif\u001b[39;00m \u001b[38;5;28misinstance\u001b[39m(data, ma\u001b[38;5;241m.\u001b[39mMaskedArray):\n\u001b[0;32m    638\u001b[0m     \u001b[38;5;28;01mimport\u001b[39;00m \u001b[38;5;21;01mnumpy\u001b[39;00m\u001b[38;5;21;01m.\u001b[39;00m\u001b[38;5;21;01mma\u001b[39;00m\u001b[38;5;21;01m.\u001b[39;00m\u001b[38;5;21;01mmrecords\u001b[39;00m \u001b[38;5;28;01mas\u001b[39;00m \u001b[38;5;21;01mmrecords\u001b[39;00m\n",
      "File \u001b[1;32m~\\Anaconda3\\lib\\site-packages\\pandas\\core\\internals\\construction.py:502\u001b[0m, in \u001b[0;36mdict_to_mgr\u001b[1;34m(data, index, columns, dtype, typ, copy)\u001b[0m\n\u001b[0;32m    494\u001b[0m     arrays \u001b[38;5;241m=\u001b[39m [\n\u001b[0;32m    495\u001b[0m         x\n\u001b[0;32m    496\u001b[0m         \u001b[38;5;28;01mif\u001b[39;00m \u001b[38;5;129;01mnot\u001b[39;00m \u001b[38;5;28mhasattr\u001b[39m(x, \u001b[38;5;124m\"\u001b[39m\u001b[38;5;124mdtype\u001b[39m\u001b[38;5;124m\"\u001b[39m) \u001b[38;5;129;01mor\u001b[39;00m \u001b[38;5;129;01mnot\u001b[39;00m \u001b[38;5;28misinstance\u001b[39m(x\u001b[38;5;241m.\u001b[39mdtype, ExtensionDtype)\n\u001b[0;32m    497\u001b[0m         \u001b[38;5;28;01melse\u001b[39;00m x\u001b[38;5;241m.\u001b[39mcopy()\n\u001b[0;32m    498\u001b[0m         \u001b[38;5;28;01mfor\u001b[39;00m x \u001b[38;5;129;01min\u001b[39;00m arrays\n\u001b[0;32m    499\u001b[0m     ]\n\u001b[0;32m    500\u001b[0m     \u001b[38;5;66;03m# TODO: can we get rid of the dt64tz special case above?\u001b[39;00m\n\u001b[1;32m--> 502\u001b[0m \u001b[38;5;28;01mreturn\u001b[39;00m \u001b[43marrays_to_mgr\u001b[49m\u001b[43m(\u001b[49m\u001b[43marrays\u001b[49m\u001b[43m,\u001b[49m\u001b[43m \u001b[49m\u001b[43mcolumns\u001b[49m\u001b[43m,\u001b[49m\u001b[43m \u001b[49m\u001b[43mindex\u001b[49m\u001b[43m,\u001b[49m\u001b[43m \u001b[49m\u001b[43mdtype\u001b[49m\u001b[38;5;241;43m=\u001b[39;49m\u001b[43mdtype\u001b[49m\u001b[43m,\u001b[49m\u001b[43m \u001b[49m\u001b[43mtyp\u001b[49m\u001b[38;5;241;43m=\u001b[39;49m\u001b[43mtyp\u001b[49m\u001b[43m,\u001b[49m\u001b[43m \u001b[49m\u001b[43mconsolidate\u001b[49m\u001b[38;5;241;43m=\u001b[39;49m\u001b[43mcopy\u001b[49m\u001b[43m)\u001b[49m\n",
      "File \u001b[1;32m~\\Anaconda3\\lib\\site-packages\\pandas\\core\\internals\\construction.py:120\u001b[0m, in \u001b[0;36marrays_to_mgr\u001b[1;34m(arrays, columns, index, dtype, verify_integrity, typ, consolidate)\u001b[0m\n\u001b[0;32m    117\u001b[0m \u001b[38;5;28;01mif\u001b[39;00m verify_integrity:\n\u001b[0;32m    118\u001b[0m     \u001b[38;5;66;03m# figure out the index, if necessary\u001b[39;00m\n\u001b[0;32m    119\u001b[0m     \u001b[38;5;28;01mif\u001b[39;00m index \u001b[38;5;129;01mis\u001b[39;00m \u001b[38;5;28;01mNone\u001b[39;00m:\n\u001b[1;32m--> 120\u001b[0m         index \u001b[38;5;241m=\u001b[39m \u001b[43m_extract_index\u001b[49m\u001b[43m(\u001b[49m\u001b[43marrays\u001b[49m\u001b[43m)\u001b[49m\n\u001b[0;32m    121\u001b[0m     \u001b[38;5;28;01melse\u001b[39;00m:\n\u001b[0;32m    122\u001b[0m         index \u001b[38;5;241m=\u001b[39m ensure_index(index)\n",
      "File \u001b[1;32m~\\Anaconda3\\lib\\site-packages\\pandas\\core\\internals\\construction.py:674\u001b[0m, in \u001b[0;36m_extract_index\u001b[1;34m(data)\u001b[0m\n\u001b[0;32m    672\u001b[0m lengths \u001b[38;5;241m=\u001b[39m \u001b[38;5;28mlist\u001b[39m(\u001b[38;5;28mset\u001b[39m(raw_lengths))\n\u001b[0;32m    673\u001b[0m \u001b[38;5;28;01mif\u001b[39;00m \u001b[38;5;28mlen\u001b[39m(lengths) \u001b[38;5;241m>\u001b[39m \u001b[38;5;241m1\u001b[39m:\n\u001b[1;32m--> 674\u001b[0m     \u001b[38;5;28;01mraise\u001b[39;00m \u001b[38;5;167;01mValueError\u001b[39;00m(\u001b[38;5;124m\"\u001b[39m\u001b[38;5;124mAll arrays must be of the same length\u001b[39m\u001b[38;5;124m\"\u001b[39m)\n\u001b[0;32m    676\u001b[0m \u001b[38;5;28;01mif\u001b[39;00m have_dicts:\n\u001b[0;32m    677\u001b[0m     \u001b[38;5;28;01mraise\u001b[39;00m \u001b[38;5;167;01mValueError\u001b[39;00m(\n\u001b[0;32m    678\u001b[0m         \u001b[38;5;124m\"\u001b[39m\u001b[38;5;124mMixing dicts with non-Series may lead to ambiguous ordering.\u001b[39m\u001b[38;5;124m\"\u001b[39m\n\u001b[0;32m    679\u001b[0m     )\n",
      "\u001b[1;31mValueError\u001b[0m: All arrays must be of the same length"
     ]
    }
   ],
   "source": [
    "import pandas as pd \n",
    "d = {'Item' : items, 'Price':prices,'Precio_kilo':precio_kilo, 'Internal code':cod_item_pos, 'Categoria 1': cat_1,\n",
    "     'Categoria 2': cat_2,'urls':urls}\n",
    "df = pd.DataFrame(data=d)\n",
    "df.to_csv(\"Eroski.csv\")"
   ]
  },
  {
   "cell_type": "code",
   "execution_count": null,
   "id": "6b93ba5a",
   "metadata": {},
   "outputs": [],
   "source": [
    "driver.close()\n",
    "driver.quit()"
   ]
  },
  {
   "cell_type": "code",
   "execution_count": null,
   "id": "df68e58a",
   "metadata": {},
   "outputs": [],
   "source": []
  }
 ],
 "metadata": {
  "kernelspec": {
   "display_name": "Python 3 (ipykernel)",
   "language": "python",
   "name": "python3"
  },
  "language_info": {
   "codemirror_mode": {
    "name": "ipython",
    "version": 3
   },
   "file_extension": ".py",
   "mimetype": "text/x-python",
   "name": "python",
   "nbconvert_exporter": "python",
   "pygments_lexer": "ipython3",
   "version": "3.9.12"
  }
 },
 "nbformat": 4,
 "nbformat_minor": 5
}
