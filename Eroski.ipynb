{
 "cells": [
  {
   "cell_type": "markdown",
   "id": "20795e15",
   "metadata": {},
   "source": [
    "### Análisis de mercado: Eroski price scraping"
   ]
  },
  {
   "cell_type": "markdown",
   "id": "ff17ee1e",
   "metadata": {},
   "source": [
    "Librerias principalas utilizadas: Selenium y pandas"
   ]
  },
  {
   "cell_type": "code",
   "execution_count": null,
   "id": "4e3847c4",
   "metadata": {},
   "outputs": [],
   "source": [
    "#pip install selenium"
   ]
  },
  {
   "cell_type": "code",
   "execution_count": 1,
   "id": "801d44ea",
   "metadata": {},
   "outputs": [],
   "source": [
    "import selenium\n",
    "from selenium import webdriver\n",
    "from selenium.webdriver.common.by import By\n",
    "from selenium.webdriver.common.keys import Keys\n",
    "from selenium.webdriver.support.ui import WebDriverWait\n",
    "from selenium.webdriver.support import expected_conditions as EC\n",
    "from selenium.common.exceptions import NoSuchElementException\n",
    "import pandas as pd \n",
    "import time"
   ]
  },
  {
   "cell_type": "markdown",
   "id": "3c5ec3a6",
   "metadata": {},
   "source": [
    "Cargamos el driver de Chrome"
   ]
  },
  {
   "cell_type": "code",
   "execution_count": 2,
   "id": "e206f9a2",
   "metadata": {},
   "outputs": [
    {
     "name": "stderr",
     "output_type": "stream",
     "text": [
      "C:\\Users\\mdorronsoro\\AppData\\Local\\Temp\\ipykernel_10808\\1049481939.py:2: DeprecationWarning: executable_path has been deprecated, please pass in a Service object\n",
      "  driver=webdriver.Chrome(executable_path=r\"C:\\Users\\mdorronsoro\\Downloads\\chromedriver_win32\\chromedriver.exe\")\n"
     ]
    }
   ],
   "source": [
    "#path=\"C:\\Users\\mdorronsoro\\Downloads\\chromedriver_win32\\chromedriver.exe\"\n",
    "driver=webdriver.Chrome(executable_path=r\"C:\\Users\\mdorronsoro\\Downloads\\chromedriver_win32\\chromedriver.exe\")"
   ]
  },
  {
   "cell_type": "markdown",
   "id": "956d56ab",
   "metadata": {},
   "source": [
    "Log in function "
   ]
  },
  {
   "cell_type": "code",
   "execution_count": 3,
   "id": "7cb959d9",
   "metadata": {},
   "outputs": [],
   "source": [
    "def log_in():\n",
    "    wait.until(EC.element_to_be_clickable((By.CLASS_NAME, \"login-desktop\"))).click()\n",
    "    user=\"maiderdorron@gmail.com\"\n",
    "    psw=\"Flavia2023!\"\n",
    "    user_input=wait.until(EC.element_to_be_clickable((By.ID, \"email\"))).send_keys(user)\n",
    "    psw_input=wait.until(EC.element_to_be_clickable((By.ID, \"password\"))).send_keys(psw)\n",
    "    wait.until(EC.element_to_be_clickable((By.XPATH, \"//button[@title='Entrar']\"))).click()\n",
    "    wait.until(EC.element_to_be_clickable((By.CSS_SELECTOR, \"a.primary-button.primary-button-back\"))).click()\n",
    "    time.sleep(1)"
   ]
  },
  {
   "cell_type": "markdown",
   "id": "d9fca829",
   "metadata": {},
   "source": [
    "We get the main info from the products in this method <br> It is remarkable that we are executing a script which allow us to scroll down and wait until all the products are loaded"
   ]
  },
  {
   "cell_type": "code",
   "execution_count": 4,
   "id": "0b68b312",
   "metadata": {},
   "outputs": [],
   "source": [
    "prices = []\n",
    "items = []\n",
    "urls = []\n",
    "precio_kilo = []\n",
    "cod_item_pos = []\n",
    "cat_1 = []\n",
    "cat_2 = []\n",
    "SCROLL_PAUSE_TIME = 3\n",
    "\n",
    "\n",
    "def look_up_it(lista):\n",
    "    for i in lista:\n",
    "        search=driver.find_element(By.ID, value=\"searchTerm\")\n",
    "        search.send_keys(i)\n",
    "        time.sleep(0.5)\n",
    "        driver.find_element(By.CLASS_NAME, \"search-button\").click()\n",
    "        time.sleep(3)\n",
    "        last_height = driver.execute_script(\"return document.body.scrollHeight\")\n",
    "        \n",
    "        while True:\n",
    "            # Scroll down to bottom\n",
    "            driver.execute_script(\"window.scrollTo(0, document.body.scrollHeight)\")\n",
    "            # Wait to load page\n",
    "            time.sleep(SCROLL_PAUSE_TIME)\n",
    "            # Calculate new scroll height and compare with last scroll height\n",
    "            new_height = driver.execute_script(\"return document.body.scrollHeight\")\n",
    "            if new_height == last_height:\n",
    "                break  \n",
    "            last_height = new_height\n",
    "        \n",
    "        get_items_prices()\n",
    "  "
   ]
  },
  {
   "cell_type": "markdown",
   "id": "5907165f",
   "metadata": {},
   "source": [
    "It gets all the products available for the search and gets the genera info. "
   ]
  },
  {
   "cell_type": "code",
   "execution_count": 5,
   "id": "5b832e7f",
   "metadata": {},
   "outputs": [],
   "source": [
    "def get_items_prices():\n",
    "    # precio   \n",
    "    get_price = driver.find_elements(By.CLASS_NAME, \"price-offer-now\")\n",
    "    for t in get_price:\n",
    "        prices.append(t.text)\n",
    "\n",
    "    #items\n",
    "    get_products = driver.find_elements(By.CSS_SELECTOR, \"h2.product-title.product-title-resp\")\n",
    "    for t in get_products:\n",
    "        items.append(t.text)\n",
    "    \n",
    "    #urls    \n",
    "    get_urls=driver.find_elements(By.CSS_SELECTOR, \"h2.product-title a\")\n",
    "    for element in get_urls:\n",
    "          urls.append(element.get_attribute(\"href\"))\n",
    "    "
   ]
  },
  {
   "cell_type": "markdown",
   "id": "69b267ee",
   "metadata": {},
   "source": [
    "After an overview of all the available products, we are clicking on each product link in order to get all the products details"
   ]
  },
  {
   "cell_type": "code",
   "execution_count": 6,
   "id": "ca9f51ed",
   "metadata": {},
   "outputs": [],
   "source": [
    "def get_price_kilo(urls):\n",
    "    for element in urls:\n",
    "        driver.get(element)\n",
    "        categorias=driver.find_elements(By.CSS_SELECTOR, \"div.col.col-lg-12.m__breadcrumb__path a\")\n",
    "        cat_1.append(categorias[1].text)\n",
    "        cat_2.append(categorias[2].text)\n",
    "\n",
    "        link = None\n",
    "        try:\n",
    "            link = driver.find_element(By.CLASS_NAME, \"price-product\")\n",
    "            precio_kilo.append(link.text)\n",
    "        except NoSuchElementException:\n",
    "            precio_kilo.append('NA')\n",
    "        #driver.close()"
   ]
  },
  {
   "cell_type": "markdown",
   "id": "df4fa912",
   "metadata": {},
   "source": [
    "We extract the internal codes from the url"
   ]
  },
  {
   "cell_type": "code",
   "execution_count": 7,
   "id": "76c2d52f",
   "metadata": {},
   "outputs": [],
   "source": [
    "def internal_codes(urls):\n",
    "    get_internal_codes= [x[49:] for x in urls]\n",
    "    for element in get_internal_codes:\n",
    "        splited=element.split('-') \n",
    "        cod_item_pos.append(splited[0])"
   ]
  },
  {
   "cell_type": "code",
   "execution_count": 8,
   "id": "1f711492",
   "metadata": {},
   "outputs": [],
   "source": [
    "#print(driver.title)\n",
    "driver.get(\"https://supermercado.eroski.es/es/\")\n",
    "driver.maximize_window()\n",
    "wait = WebDriverWait(driver, 30)\n",
    "wait.until(EC.element_to_be_clickable((By.ID, \"onetrust-accept-btn-handler\"))).click() \n",
    "log_in()\n",
    "\n",
    "look_up=['gula','palito cangrejo','salmon','bacalao']\n",
    "look_up_it(look_up)\n",
    "urls=list(set(urls))\n",
    "get_price_kilo(urls)\n",
    "internal_codes(urls)\n",
    "driver.get(\"https://supermercado.eroski.es/\")"
   ]
  },
  {
   "cell_type": "code",
   "execution_count": 9,
   "id": "40405b31",
   "metadata": {},
   "outputs": [],
   "source": [
    "d = {'Item' : items, 'Price':prices,'Precio_kilo':precio_kilo, 'Internal code':cod_item_pos, 'Categoria 1': cat_1,\n",
    "     'Categoria 2': cat_2,'urls':urls}\n",
    "df = pd.DataFrame(data=d)\n",
    "df.to_csv(\"Eroski.csv\")"
   ]
  },
  {
   "cell_type": "code",
   "execution_count": null,
   "id": "6b93ba5a",
   "metadata": {},
   "outputs": [],
   "source": [
    "driver.close()\n",
    "driver.quit()"
   ]
  },
  {
   "cell_type": "markdown",
   "id": "e6769414",
   "metadata": {},
   "source": [
    "All the libraries needed"
   ]
  },
  {
   "cell_type": "code",
   "execution_count": null,
   "id": "148966e0",
   "metadata": {},
   "outputs": [],
   "source": [
    "pip freeze"
   ]
  },
  {
   "cell_type": "code",
   "execution_count": null,
   "id": "ca970686",
   "metadata": {},
   "outputs": [],
   "source": []
  }
 ],
 "metadata": {
  "kernelspec": {
   "display_name": "Python 3 (ipykernel)",
   "language": "python",
   "name": "python3"
  },
  "language_info": {
   "codemirror_mode": {
    "name": "ipython",
    "version": 3
   },
   "file_extension": ".py",
   "mimetype": "text/x-python",
   "name": "python",
   "nbconvert_exporter": "python",
   "pygments_lexer": "ipython3",
   "version": "3.9.12"
  }
 },
 "nbformat": 4,
 "nbformat_minor": 5
}
